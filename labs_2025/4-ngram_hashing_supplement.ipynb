{
 "cells": [
  {
   "cell_type": "markdown",
   "metadata": {},
   "source": [
    "# Tatoeba: N-Gram Hashing\n",
    "\n",
    "Author: Pierre Nugues"
   ]
  },
  {
   "cell_type": "markdown",
   "metadata": {},
   "source": [
    "In this notbook, we will reduce the size of the n-gram vectors using hashing techniques\n",
    "\n",
    "This is a preliminary step to understand language detection and CLD3, https://github.com/google/cld3"
   ]
  },
  {
   "cell_type": "code",
   "execution_count": 1,
   "metadata": {},
   "outputs": [],
   "source": [
    "import random\n",
    "from collections import Counter\n",
    "import torch\n",
    "import matplotlib.pyplot as plt"
   ]
  },
  {
   "cell_type": "code",
   "execution_count": 2,
   "metadata": {},
   "outputs": [
    {
     "data": {
      "text/plain": [
       "<torch._C.Generator at 0x11b9c7850>"
      ]
     },
     "execution_count": 2,
     "metadata": {},
     "output_type": "execute_result"
    }
   ],
   "source": [
    "random.seed(4321)\n",
    "torch.manual_seed(4321)"
   ]
  },
  {
   "cell_type": "markdown",
   "metadata": {},
   "source": [
    "## Reading the Dataset"
   ]
  },
  {
   "cell_type": "code",
   "execution_count": 3,
   "metadata": {},
   "outputs": [],
   "source": [
    "FILE = 'sentences.csv'"
   ]
  },
  {
   "cell_type": "markdown",
   "metadata": {},
   "source": [
    "Adjust your path"
   ]
  },
  {
   "cell_type": "code",
   "execution_count": 4,
   "metadata": {},
   "outputs": [],
   "source": [
    "SMALL_DATASET_PATH = '.'\n",
    "LARGE_DATASET_PATH = '.'"
   ]
  },
  {
   "cell_type": "code",
   "execution_count": 5,
   "metadata": {},
   "outputs": [],
   "source": [
    "SMALL = False"
   ]
  },
  {
   "cell_type": "code",
   "execution_count": 6,
   "metadata": {},
   "outputs": [],
   "source": [
    "if SMALL:\n",
    "    dataset_path = SMALL_DATASET_PATH\n",
    "else:\n",
    "    dataset_path = LARGE_DATASET_PATH\n",
    "    \n",
    "WORKING_FILE = dataset_path + '/' + FILE"
   ]
  },
  {
   "cell_type": "markdown",
   "metadata": {},
   "source": [
    "We create a generator"
   ]
  },
  {
   "cell_type": "code",
   "execution_count": 7,
   "metadata": {},
   "outputs": [],
   "source": [
    "def file_reader(file):\n",
    "    with open(file, encoding='utf8', errors='ignore') as f:\n",
    "        for line in f:\n",
    "            row = line.strip()\n",
    "            yield tuple(row.split('\\t'))"
   ]
  },
  {
   "cell_type": "code",
   "execution_count": 8,
   "metadata": {},
   "outputs": [],
   "source": [
    "line_generator = file_reader(WORKING_FILE)"
   ]
  },
  {
   "cell_type": "markdown",
   "metadata": {},
   "source": [
    "And we count the sentences per language"
   ]
  },
  {
   "cell_type": "code",
   "execution_count": 9,
   "metadata": {},
   "outputs": [],
   "source": [
    "lang_freqs = Counter(map(lambda x: x[1], line_generator))"
   ]
  },
  {
   "cell_type": "code",
   "execution_count": 10,
   "metadata": {},
   "outputs": [
    {
     "data": {
      "text/plain": [
       "[('eng', 1919655),\n",
       " ('rus', 1083677),\n",
       " ('ita', 888171),\n",
       " ('epo', 766363),\n",
       " ('tur', 734304),\n",
       " ('kab', 722477),\n",
       " ('deu', 694683),\n",
       " ('ber', 676645),\n",
       " ('fra', 627564),\n",
       " ('por', 433886),\n",
       " ('hun', 411068),\n",
       " ('spa', 408395),\n",
       " ('jpn', 241802),\n",
       " ('heb', 201539),\n",
       " ('ukr', 186322)]"
      ]
     },
     "execution_count": 10,
     "metadata": {},
     "output_type": "execute_result"
    }
   ],
   "source": [
    "lang_freqs.most_common(15)"
   ]
  },
  {
   "cell_type": "code",
   "execution_count": 11,
   "metadata": {},
   "outputs": [
    {
     "data": {
      "text/plain": [
       "['\\\\N', 'abk', 'acm', 'ady', 'afb', 'afh', 'afr', 'aii', 'ain', 'ajp']"
      ]
     },
     "execution_count": 11,
     "metadata": {},
     "output_type": "execute_result"
    }
   ],
   "source": [
    "langs = sorted(list(set(lang_freqs.keys())))\n",
    "langs[:10]"
   ]
  },
  {
   "cell_type": "markdown",
   "metadata": {},
   "source": [
    "## Extracting n-grams"
   ]
  },
  {
   "cell_type": "code",
   "execution_count": 12,
   "metadata": {},
   "outputs": [],
   "source": [
    "def ngrams(sentence, n=1, lc=True):\n",
    "    ngram_l = []\n",
    "    if lc:\n",
    "        sentence = sentence.lower()\n",
    "    for i in range(len(sentence) - n + 1):\n",
    "        ngram_l += [sentence[i:i+n]]\n",
    "    return ngram_l"
   ]
  },
  {
   "cell_type": "code",
   "execution_count": 13,
   "metadata": {},
   "outputs": [],
   "source": [
    "def all_ngrams(sentence, max_ngram=3, lc=True):\n",
    "    all_ngram_list = []\n",
    "    for i in range(1, max_ngram + 1):\n",
    "        all_ngram_list += [ngrams(sentence, n=i, lc=lc)]\n",
    "    return all_ngram_list"
   ]
  },
  {
   "cell_type": "code",
   "execution_count": 14,
   "metadata": {},
   "outputs": [
    {
     "data": {
      "text/plain": [
       "[['b', 'a', 'n', 'a', 'n', 'a'],\n",
       " ['ba', 'an', 'na', 'an', 'na'],\n",
       " ['ban', 'ana', 'nan', 'ana']]"
      ]
     },
     "execution_count": 14,
     "metadata": {},
     "output_type": "execute_result"
    }
   ],
   "source": [
    "all_ngrams('banana')"
   ]
  },
  {
   "cell_type": "markdown",
   "metadata": {},
   "source": [
    "## Extracting n-grams from the corpus"
   ]
  },
  {
   "cell_type": "code",
   "execution_count": 15,
   "metadata": {},
   "outputs": [],
   "source": [
    "def extract_ngrams():\n",
    "    with open(WORKING_FILE, encoding='utf8', errors='ignore') as f:\n",
    "        for line in f:\n",
    "            row = line.strip()\n",
    "            lang_tuple = tuple(row.split('\\t'))\n",
    "            lang = lang_tuple[1]\n",
    "            if lang in langs:\n",
    "                yield all_ngrams(lang_tuple[2])       "
   ]
  },
  {
   "cell_type": "markdown",
   "metadata": {},
   "source": [
    "We assume three, otherwise we have to create a list"
   ]
  },
  {
   "cell_type": "code",
   "execution_count": 16,
   "metadata": {},
   "outputs": [],
   "source": [
    "charset = set()\n",
    "bigram_set = set()\n",
    "trigram_set = set()"
   ]
  },
  {
   "cell_type": "code",
   "execution_count": 17,
   "metadata": {},
   "outputs": [],
   "source": [
    "for triple in extract_ngrams():\n",
    "    charset.update(triple[0])\n",
    "    bigram_set.update(triple[1])\n",
    "    trigram_set.update(triple[2])\n"
   ]
  },
  {
   "cell_type": "code",
   "execution_count": 18,
   "metadata": {},
   "outputs": [
    {
     "data": {
      "text/plain": [
       "(10854, 361766, 1536870)"
      ]
     },
     "execution_count": 18,
     "metadata": {},
     "output_type": "execute_result"
    }
   ],
   "source": [
    "len(charset), len(bigram_set), len(trigram_set)"
   ]
  },
  {
   "cell_type": "markdown",
   "metadata": {},
   "source": [
    "## Hashing the n-grams and limiting their numbers"
   ]
  },
  {
   "cell_type": "code",
   "execution_count": 19,
   "metadata": {},
   "outputs": [
    {
     "data": {
      "text/plain": [
       "(-5072967176214789791, 9)"
      ]
     },
     "execution_count": 19,
     "metadata": {},
     "output_type": "execute_result"
    }
   ],
   "source": [
    "hash('ads'), hash('ads') % 100"
   ]
  },
  {
   "cell_type": "code",
   "execution_count": 20,
   "metadata": {},
   "outputs": [],
   "source": [
    "if SMALL:\n",
    "    MAX_CHARS = 521\n",
    "    MAX_BIGRAMS = 1031\n",
    "    MAX_TRIGRAMS = 1031  \n",
    "else:\n",
    "    MAX_CHARS = 2053\n",
    "    MAX_BIGRAMS = 4099\n",
    "    MAX_TRIGRAMS = 4099  #8192"
   ]
  },
  {
   "cell_type": "code",
   "execution_count": 21,
   "metadata": {},
   "outputs": [
    {
     "data": {
      "text/plain": [
       "10251"
      ]
     },
     "execution_count": 21,
     "metadata": {},
     "output_type": "execute_result"
    }
   ],
   "source": [
    "NUM_FEATURES = MAX_CHARS + MAX_BIGRAMS + MAX_TRIGRAMS\n",
    "NUM_FEATURES"
   ]
  },
  {
   "cell_type": "code",
   "execution_count": 22,
   "metadata": {},
   "outputs": [],
   "source": [
    "def hash_conflicts(symbol_set, modulo):\n",
    "    conflict_dict = dict()\n",
    "    for symb in symbol_set:\n",
    "        hash_code = hash(symb) % modulo\n",
    "        if hash_code in conflict_dict:\n",
    "            conflict_dict[hash_code] += [symb]\n",
    "        else:\n",
    "            conflict_dict[hash_code] = [symb]\n",
    "    return conflict_dict"
   ]
  },
  {
   "cell_type": "code",
   "execution_count": 23,
   "metadata": {},
   "outputs": [],
   "source": [
    "hash_conflicts_1 = hash_conflicts(charset, MAX_CHARS)\n",
    "hash_conflicts_2 = hash_conflicts(bigram_set, MAX_BIGRAMS)\n",
    "hash_conflicts_3 = hash_conflicts(trigram_set, MAX_TRIGRAMS)"
   ]
  },
  {
   "cell_type": "code",
   "execution_count": 24,
   "metadata": {},
   "outputs": [
    {
     "data": {
      "text/plain": [
       "879"
      ]
     },
     "execution_count": 24,
     "metadata": {},
     "output_type": "execute_result"
    }
   ],
   "source": [
    "hash('a') % 2053"
   ]
  },
  {
   "cell_type": "code",
   "execution_count": 25,
   "metadata": {},
   "outputs": [
    {
     "data": {
      "text/plain": [
       "['ओ', '潮', '駁', '킹']"
      ]
     },
     "execution_count": 25,
     "metadata": {},
     "output_type": "execute_result"
    }
   ],
   "source": [
    "hash_conflicts_1[1308]"
   ]
  },
  {
   "cell_type": "code",
   "execution_count": 26,
   "metadata": {},
   "outputs": [
    {
     "data": {
      "text/plain": [
       "2815"
      ]
     },
     "execution_count": 26,
     "metadata": {},
     "output_type": "execute_result"
    }
   ],
   "source": [
    "hash('abc') % 4099"
   ]
  },
  {
   "cell_type": "code",
   "execution_count": 27,
   "metadata": {},
   "outputs": [
    {
     "data": {
      "text/plain": [
       "[' ଦ୍',\n",
       " 'のは当',\n",
       " '友还可',\n",
       " 'ڭ ق',\n",
       " '们是来',\n",
       " 'തൂ.',\n",
       " '고합니',\n",
       " 'u į',\n",
       " 'は伝達',\n",
       " 'ーの父',\n",
       " '明显大',\n",
       " '켄은 ',\n",
       " 'yeo',\n",
       " 'もの結',\n",
       " 'は宿屋',\n",
       " '続人と',\n",
       " 'הלי',\n",
       " 'জক ',\n",
       " '思考。',\n",
       " 'rdî',\n",
       " 'យ \\u200b',\n",
       " 'のらし',\n",
       " 'た死な',\n",
       " '沒有粘',\n",
       " '到你自',\n",
       " 'aei',\n",
       " '員均須',\n",
       " '歡化美',\n",
       " 'ة/ا',\n",
       " 'ain',\n",
       " '良いベ',\n",
       " 'צום',\n",
       " 'ば、彼',\n",
       " 'ητέ',\n",
       " 'ಸಿದ',\n",
       " '英語多',\n",
       " '了，吾',\n",
       " 'ास!',\n",
       " '水管被',\n",
       " ' µε',\n",
       " 'ौ र',\n",
       " '心者勝',\n",
       " '日に始',\n",
       " '이 듭',\n",
       " '്ണാ',\n",
       " '저했어',\n",
       " 'りも筋',\n",
       " '我慢出',\n",
       " '都會俾',\n",
       " '間便通',\n",
       " '読むん',\n",
       " '活个？',\n",
       " 'فم.',\n",
       " 'די.',\n",
       " 'péy',\n",
       " 'ይነጥ',\n",
       " '勤而行',\n",
       " '解決で',\n",
       " '\\xa0vi',\n",
       " '被廢氣',\n",
       " 'pāg',\n",
       " '何年待',\n",
       " 'かお助',\n",
       " 'yáa',\n",
       " 'ɣ ḥ',\n",
       " '빠르네',\n",
       " '入るん',\n",
       " 'm在b',\n",
       " 'വസി',\n",
       " 'ሒፍዎ',\n",
       " '売を譲',\n",
       " '去音乐',\n",
       " '直视我',\n",
       " '沒別的',\n",
       " 'چەخ',\n",
       " '一の手',\n",
       " ' \"ш',\n",
       " '變老了',\n",
       " '方侪会',\n",
       " ' εu',\n",
       " 'ोलं',\n",
       " '院比较',\n",
       " 'mḏ-',\n",
       " 'く滑ら',\n",
       " '在省钱',\n",
       " '变成老',\n",
       " '要打断',\n",
       " '是电吉',\n",
       " '左转却',\n",
       " 'トはき',\n",
       " 'hə.',\n",
       " 'クとは',\n",
       " 'いたわ',\n",
       " 'ibl',\n",
       " '負の見',\n",
       " '的習慣',\n",
       " '幸因素',\n",
       " '¿mu',\n",
       " '体およ',\n",
       " 'կ մ',\n",
       " '張空床',\n",
       " '夫人だ',\n",
       " 'תדי',\n",
       " 'ခုတ',\n",
       " '待到六',\n",
       " '有不懂',\n",
       " '０分は',\n",
       " 'ゴムと',\n",
       " 'hs.',\n",
       " 'цтæ',\n",
       " 'たち二',\n",
       " 'óbő',\n",
       " 'ύψε',\n",
       " 'ýhľ',\n",
       " '阿拉了',\n",
       " '/su',\n",
       " '熱く燃',\n",
       " '室吗？',\n",
       " 'く結婚',\n",
       " '欢我的',\n",
       " 'らで使',\n",
       " '闲话来',\n",
       " '延于世',\n",
       " 'は男尊',\n",
       " '他喝那',\n",
       " '森美喺',\n",
       " '走るの',\n",
       " '人の値',\n",
       " 'ีจั',\n",
       " '小川で',\n",
       " 'ό ώ',\n",
       " 'биу',\n",
       " '々私に',\n",
       " 'とコメ',\n",
       " '成了英',\n",
       " 'uäl',\n",
       " 'ずに毎',\n",
       " '는 구',\n",
       " '小船か',\n",
       " '。で？',\n",
       " 'ী ঠ',\n",
       " '将触角',\n",
       " '見你姐',\n",
       " 'apš',\n",
       " '然地理',\n",
       " 'կաթ',\n",
       " '敗を弟',\n",
       " ' хв',\n",
       " 'לזה',\n",
       " 'υΐα',\n",
       " 'さつい',\n",
       " 'роқ',\n",
       " '俺の机',\n",
       " '杯であ',\n",
       " 'яни',\n",
       " '基金组',\n",
       " 'ử. ',\n",
       " 'тую',\n",
       " '己搬這',\n",
       " '以在书',\n",
       " 'ånu',\n",
       " '「コン',\n",
       " '物价是',\n",
       " '、魚に',\n",
       " '車のブ',\n",
       " '筆畀我',\n",
       " 'で５冊',\n",
       " '거리가',\n",
       " 'ໝູ່',\n",
       " '私を信',\n",
       " '勿管个',\n",
       " 'ス･\\u200b',\n",
       " '読むつ',\n",
       " '5 ч',\n",
       " 'μάζ',\n",
       " '冤獄。',\n",
       " 'џаб',\n",
       " '原案に',\n",
       " ' δυ',\n",
       " '能让人',\n",
       " 'てるリ',\n",
       " ' रच',\n",
       " 'ⵛⵛ!',\n",
       " '狗的聽',\n",
       " 'めやす',\n",
       " '下繁辭',\n",
       " 'レサの',\n",
       " '火车比',\n",
       " '事実」',\n",
       " 'חב,',\n",
       " 'క వ',\n",
       " 'だ、大',\n",
       " 'i \"',\n",
       " 'は光化',\n",
       " 'ότυ',\n",
       " 'りは水',\n",
       " 'ga说',\n",
       " 'ちか、',\n",
       " 'ѫпи',\n",
       " '做出的',\n",
       " '達が早',\n",
       " 'nàs',\n",
       " 'ᱨᱚᱛ',\n",
       " 'vyé',\n",
       " '根は大',\n",
       " 'ाया',\n",
       " '定要保',\n",
       " '1番目',\n",
       " '回應。',\n",
       " '由船隻',\n",
       " 'ча-',\n",
       " '心とす',\n",
       " '駅に向',\n",
       " '们的发',\n",
       " '荒れ果',\n",
       " '、yo',\n",
       " '都来的',\n",
       " '下請け',\n",
       " 'で達成',\n",
       " 'ジ付き',\n",
       " '民在春',\n",
       " '困的學',\n",
       " '。すぐ',\n",
       " '要钞票',\n",
       " '「太っ',\n",
       " '點的嗎',\n",
       " '物馆和',\n",
       " '他治好',\n",
       " '織に入',\n",
       " '大衆を',\n",
       " '頭を洗',\n",
       " '亲身体',\n",
       " '社員は',\n",
       " 'סמן',\n",
       " 'hsû',\n",
       " 'と計算',\n",
       " 'с қ',\n",
       " '一哥們',\n",
       " 'әл.',\n",
       " '在不断',\n",
       " 'もベジ',\n",
       " 'うに刃',\n",
       " '备好离',\n",
       " 's?”',\n",
       " 'α\".',\n",
       " '不懂，',\n",
       " '一只苍',\n",
       " '前を後',\n",
       " 'zű?',\n",
       " '해하는',\n",
       " 'न फ',\n",
       " 'らを描',\n",
       " '記のウ',\n",
       " '苦いね',\n",
       " '不早謂',\n",
       " 'をトー',\n",
       " '医者が',\n",
       " 'קפל',\n",
       " '度睇網',\n",
       " '之天民',\n",
       " '麼可以',\n",
       " 'は大好',\n",
       " 'ť. ',\n",
       " '換えら',\n",
       " 'ደግክ',\n",
       " 'ꦕꦃꦥ',\n",
       " '，鬼不',\n",
       " '英訳と',\n",
       " '好，我',\n",
       " 'にはば',\n",
       " ' 마세',\n",
       " 'え、三',\n",
       " '再哭了',\n",
       " 'तलक',\n",
       " ' −3',\n",
       " 'ạo,',\n",
       " 'ពីព',\n",
       " '发生！',\n",
       " 'ビでカ',\n",
       " 'なまる',\n",
       " ' zd',\n",
       " 'は寄っ',\n",
       " ': ,',\n",
       " '上有张',\n",
       " 'りに壁',\n",
       " 'ケが好',\n",
       " '本身是',\n",
       " '我醒來',\n",
       " '个受所',\n",
       " 'でも鮮',\n",
       " '會冇咗',\n",
       " 'gʷl',\n",
       " 'קמח',\n",
       " 'رتر',\n",
       " '川に入',\n",
       " 'κιω',\n",
       " '都還曬',\n",
       " '世界中',\n",
       " '潔癖性',\n",
       " '了演讲',\n",
       " 'へん人',\n",
       " '成爲智',\n",
       " '好几种',\n",
       " '成是水',\n",
       " '座给需',\n",
       " 'でググ',\n",
       " '我勿等',\n",
       " '１日コ',\n",
       " 'が大笑',\n",
       " '寒い気',\n",
       " 'ず学ば',\n",
       " 'òle',\n",
       " 'うに速',\n",
       " 'نفت',\n",
       " 'ーンシ',\n",
       " '多閱讀',\n",
       " '爱好吗',\n",
       " '땠습니',\n",
       " '不够行',\n",
       " 'グがウ',\n",
       " 'れる計',\n",
       " '-הס',\n",
       " '이 투',\n",
       " 'こいっ',\n",
       " '少本算',\n",
       " '之視今',\n",
       " 'ឺ\\u200bហ',\n",
       " 'نین',\n",
       " '後にレ',\n",
       " '你叉咗',\n",
       " '20周',\n",
       " '歡去滑',\n",
       " 'еан',\n",
       " 'ál;',\n",
       " '白いか',\n",
       " 'ⵏⵓⴷ',\n",
       " '私も若',\n",
       " 'eṃḍ',\n",
       " 'うにと',\n",
       " '椅子嗎',\n",
       " '事なこ',\n",
       " 'ረምቲ',\n",
       " 'rný']"
      ]
     },
     "execution_count": 27,
     "metadata": {},
     "output_type": "execute_result"
    }
   ],
   "source": [
    "hash_conflicts_3[672]"
   ]
  },
  {
   "cell_type": "markdown",
   "metadata": {},
   "source": [
    "Expected number of symbols per hash code"
   ]
  },
  {
   "cell_type": "code",
   "execution_count": 28,
   "metadata": {},
   "outputs": [
    {
     "data": {
      "text/plain": [
       "(5.286897223575256, 88.25713588680166, 374.93778970480605)"
      ]
     },
     "execution_count": 28,
     "metadata": {},
     "output_type": "execute_result"
    }
   ],
   "source": [
    "len(charset)/MAX_CHARS, len(bigram_set)/MAX_BIGRAMS, len(trigram_set)/MAX_TRIGRAMS"
   ]
  },
  {
   "cell_type": "markdown",
   "metadata": {},
   "source": [
    "Observed frequencies"
   ]
  },
  {
   "cell_type": "code",
   "execution_count": 29,
   "metadata": {},
   "outputs": [
    {
     "data": {
      "text/plain": [
       "Counter({5: 347,\n",
       "         4: 333,\n",
       "         6: 314,\n",
       "         3: 269,\n",
       "         7: 248,\n",
       "         2: 147,\n",
       "         8: 143,\n",
       "         9: 92,\n",
       "         10: 56,\n",
       "         1: 52,\n",
       "         11: 24,\n",
       "         12: 9,\n",
       "         13: 5,\n",
       "         14: 1,\n",
       "         16: 1,\n",
       "         15: 1})"
      ]
     },
     "execution_count": 29,
     "metadata": {},
     "output_type": "execute_result"
    }
   ],
   "source": [
    "cnt_hc_1 = Counter(map(len, hash_conflicts_1.values()))\n",
    "cnt_hc_1"
   ]
  },
  {
   "cell_type": "code",
   "execution_count": 30,
   "metadata": {},
   "outputs": [
    {
     "data": {
      "image/png": "[encoded data removed]",
      "text/plain": [
       "<Figure size 640x480 with 1 Axes>"
      ]
     },
     "metadata": {},
     "output_type": "display_data"
    }
   ],
   "source": [
    "plt.bar(cnt_hc_1.keys(), cnt_hc_1.values())\n",
    "plt.show()"
   ]
  },
  {
   "cell_type": "code",
   "execution_count": 31,
   "metadata": {},
   "outputs": [
    {
     "data": {
      "text/plain": [
       "Counter({89: 188,\n",
       "         86: 185,\n",
       "         85: 171,\n",
       "         84: 169,\n",
       "         87: 161,\n",
       "         82: 159,\n",
       "         90: 157,\n",
       "         88: 156,\n",
       "         83: 150,\n",
       "         95: 143,\n",
       "         91: 141,\n",
       "         96: 138,\n",
       "         80: 135,\n",
       "         94: 132,\n",
       "         97: 129,\n",
       "         92: 129,\n",
       "         81: 129,\n",
       "         93: 126,\n",
       "         79: 99,\n",
       "         78: 97,\n",
       "         77: 95,\n",
       "         76: 95,\n",
       "         100: 88,\n",
       "         98: 84,\n",
       "         99: 79,\n",
       "         101: 72,\n",
       "         75: 68,\n",
       "         73: 59,\n",
       "         102: 56,\n",
       "         103: 55,\n",
       "         104: 52,\n",
       "         72: 46,\n",
       "         105: 39,\n",
       "         74: 39,\n",
       "         71: 32,\n",
       "         108: 31,\n",
       "         70: 25,\n",
       "         106: 24,\n",
       "         107: 22,\n",
       "         69: 21,\n",
       "         68: 18,\n",
       "         110: 16,\n",
       "         111: 12,\n",
       "         112: 11,\n",
       "         65: 10,\n",
       "         66: 10,\n",
       "         109: 8,\n",
       "         67: 7,\n",
       "         114: 6,\n",
       "         113: 4,\n",
       "         116: 3,\n",
       "         63: 2,\n",
       "         120: 2,\n",
       "         115: 2,\n",
       "         62: 1,\n",
       "         122: 1,\n",
       "         58: 1,\n",
       "         117: 1,\n",
       "         128: 1,\n",
       "         61: 1,\n",
       "         56: 1,\n",
       "         121: 1,\n",
       "         64: 1,\n",
       "         125: 1,\n",
       "         60: 1,\n",
       "         118: 1})"
      ]
     },
     "execution_count": 31,
     "metadata": {},
     "output_type": "execute_result"
    }
   ],
   "source": [
    "cnt_hc_2= Counter(map(len, hash_conflicts_2.values()))\n",
    "cnt_hc_2"
   ]
  },
  {
   "cell_type": "code",
   "execution_count": 32,
   "metadata": {},
   "outputs": [
    {
     "data": {
      "image/png": "[encoded data removed]",
      "text/plain": [
       "<Figure size 640x480 with 1 Axes>"
      ]
     },
     "metadata": {},
     "output_type": "display_data"
    }
   ],
   "source": [
    "plt.bar(cnt_hc_2.keys(), cnt_hc_2.values())\n",
    "plt.show()"
   ]
  },
  {
   "cell_type": "code",
   "execution_count": 33,
   "metadata": {},
   "outputs": [],
   "source": [
    "cnt_hc_3 = Counter(map(len, hash_conflicts_3.values()))"
   ]
  },
  {
   "cell_type": "code",
   "execution_count": 34,
   "metadata": {},
   "outputs": [
    {
     "data": {
      "image/png": "[encoded data removed]",
      "text/plain": [
       "<Figure size 640x480 with 1 Axes>"
      ]
     },
     "metadata": {},
     "output_type": "display_data"
    }
   ],
   "source": [
    "plt.bar(cnt_hc_3.keys(), cnt_hc_3.values())\n",
    "plt.show()"
   ]
  },
  {
   "cell_type": "code",
   "execution_count": null,
   "metadata": {},
   "outputs": [],
   "source": []
  }
 ],
 "metadata": {
  "kernelspec": {
   "display_name": "base",
   "language": "python",
   "name": "python3"
  },
  "language_info": {
   "codemirror_mode": {
    "name": "ipython",
    "version": 3
   },
   "file_extension": ".py",
   "mimetype": "text/x-python",
   "name": "python",
   "nbconvert_exporter": "python",
   "pygments_lexer": "ipython3",
   "version": "3.13.5"
  },
  "orig_nbformat": 4
 },
 "nbformat": 4,
 "nbformat_minor": 2
}
